{
 "cells": [
  {
   "cell_type": "markdown",
   "id": "6a705b75",
   "metadata": {},
   "source": [
    "# WRITE A PYTHON PROGRAM TO PRINT THE FOLLOWING STRING IN A SPECIFIC FORMAT(SEE THE OUTPUT):"
   ]
  },
  {
   "cell_type": "code",
   "execution_count": 4,
   "id": "45f023de",
   "metadata": {},
   "outputs": [
    {
     "name": "stdout",
     "output_type": "stream",
     "text": [
      "Twinkle Twinkle Little Star, \n",
      "\t\t How I Wonder what you are! \n",
      "\t\t\t Up Above the world so high, \n",
      "\t\t\t Like a diamond in the sky.\n",
      "Twinkle Twinkle Little Star, \n",
      "\t\t How I Wonder what you are.\n"
     ]
    }
   ],
   "source": [
    "print(\"Twinkle Twinkle Little Star, \\n\\t\\t How I Wonder what you are! \\n\\t\\t\\t Up Above the world so high, \\n\\t\\t\\t Like a diamond in the sky.\")\n",
    "print(\"Twinkle Twinkle Little Star, \\n\\t\\t How I Wonder what you are.\")"
   ]
  },
  {
   "cell_type": "markdown",
   "id": "8d41b8dd",
   "metadata": {},
   "source": [
    "# WRITE A PYTHON PROGRAM TO GET THE PYTHON VERSION YOU ARE USING"
   ]
  },
  {
   "cell_type": "code",
   "execution_count": 5,
   "id": "95da2de2",
   "metadata": {},
   "outputs": [
    {
     "name": "stdout",
     "output_type": "stream",
     "text": [
      "3.8.8 (default, Apr 13 2021, 15:08:03) [MSC v.1916 64 bit (AMD64)]\n"
     ]
    }
   ],
   "source": [
    "import sys\n",
    "print(sys.version);"
   ]
  },
  {
   "cell_type": "markdown",
   "id": "270b7e6c",
   "metadata": {},
   "source": [
    "# WRITE A PYTHON PROGRAM TO DISPLAY THE CURRENT DATE AND TIME"
   ]
  },
  {
   "cell_type": "code",
   "execution_count": 7,
   "id": "c10533d8",
   "metadata": {},
   "outputs": [
    {
     "name": "stdout",
     "output_type": "stream",
     "text": [
      "2021-12-31 18:58:36\n"
     ]
    }
   ],
   "source": [
    "from datetime import datetime\n",
    "now = datetime.now()\n",
    "print (now.strftime(\"%Y-%m-%d %H:%M:%S\"));"
   ]
  },
  {
   "cell_type": "markdown",
   "id": "286f03fa",
   "metadata": {},
   "source": [
    "# WRITE A PYTHON PROGRAM WHICH ACCEPTS THE RADIUS OF A CIRCLE FROM THE USER AND COMPUTE THE AREA"
   ]
  },
  {
   "cell_type": "code",
   "execution_count": 8,
   "id": "a20619df",
   "metadata": {},
   "outputs": [
    {
     "name": "stdout",
     "output_type": "stream",
     "text": [
      "Enter the Radius of a circle: 15.24\n",
      "The PI Value is:  3.14159\n",
      "The Radius of a circle is:  15.24\n",
      "The Area of a circle is:  729.658153584\n"
     ]
    }
   ],
   "source": [
    "pi = 3.14159\n",
    "radius = float(input(\"Enter the Radius of a circle: \"));\n",
    "area = pi * radius * radius;\n",
    "print(\"The PI Value is: \", pi);\n",
    "print(\"The Radius of a circle is: \", radius);\n",
    "print(\"The Area of a circle is: \", area);"
   ]
  },
  {
   "cell_type": "markdown",
   "id": "3f0547f0",
   "metadata": {},
   "source": [
    "# WRITE A PYTHON PROGRAM WHICH ACCEPT THE USERS FIRST AND LAST NAME AND PRINT THEM IN REVERSE ORDER WITH THE SPACE BETWEEN THEM"
   ]
  },
  {
   "cell_type": "code",
   "execution_count": 19,
   "id": "5fda86bc",
   "metadata": {},
   "outputs": [
    {
     "name": "stdout",
     "output_type": "stream",
     "text": [
      "Enter Your First Name: Muhammad\n",
      "Enter Your Last Name: Faizan\n",
      "Your Original Name without reversing is: Muhammad  Faizan\n",
      "Your Original Name with reversing is: Faizan  Muhammad\n"
     ]
    }
   ],
   "source": [
    "first_name = input(\"Enter Your First Name: \");\n",
    "last_name = input(\"Enter Your Last Name: \");\n",
    "orig_full_name = first_name + last_name\n",
    "rev_full_name = last_name + first_name\n",
    "# print(\"Your Original Name is: \" + orig_full_name);\n",
    "# print(\"Your Reverse Name is: \" + rev_full_name);\n",
    "print(\"Your Original Name without reversing is:\",first_name,\"\",last_name);\n",
    "print(\"Your Original Name with reversing is:\",last_name,\"\",first_name);"
   ]
  },
  {
   "cell_type": "markdown",
   "id": "b13a4a4a",
   "metadata": {},
   "source": [
    "# WRITE A PYTHON PROGRAM WHICH TAKES TWO INPUT FROM USER AND PRINT THEM ADDITION"
   ]
  },
  {
   "cell_type": "code",
   "execution_count": 20,
   "id": "2d1e7a55",
   "metadata": {},
   "outputs": [
    {
     "name": "stdout",
     "output_type": "stream",
     "text": [
      "Enter the first number: 1.52\n",
      "Enter the second number: 3.265\n",
      "The First Number is:  1.52\n",
      "The Second Number is:  3.265\n",
      "The Addition of  1.52 and 3.265 is:  4.785\n"
     ]
    }
   ],
   "source": [
    "number1 = float(input(\"Enter the first number: \"));\n",
    "number2 = float(input(\"Enter the second number: \"));\n",
    "sum = number1 + number2;\n",
    "print(\"The First Number is: \", number1);\n",
    "print(\"The Second Number is: \", number2);\n",
    "print(\"The Addition of \", number1, \"and\", number2, \"is: \", sum);"
   ]
  },
  {
   "cell_type": "code",
   "execution_count": null,
   "id": "e13064be",
   "metadata": {},
   "outputs": [],
   "source": []
  }
 ],
 "metadata": {
  "kernelspec": {
   "display_name": "Python 3",
   "language": "python",
   "name": "python3"
  },
  "language_info": {
   "codemirror_mode": {
    "name": "ipython",
    "version": 3
   },
   "file_extension": ".py",
   "mimetype": "text/x-python",
   "name": "python",
   "nbconvert_exporter": "python",
   "pygments_lexer": "ipython3",
   "version": "3.8.8"
  }
 },
 "nbformat": 4,
 "nbformat_minor": 5
}
